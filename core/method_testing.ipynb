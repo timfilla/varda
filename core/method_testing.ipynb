{
 "cells": [
  {
   "cell_type": "code",
   "id": "initial_id",
   "metadata": {
    "collapsed": true,
    "ExecuteTime": {
     "end_time": "2024-11-21T19:24:16.345016Z",
     "start_time": "2024-11-21T19:24:16.341972Z"
    }
   },
   "source": [
    "from astropy.coordinates import SkyCoord, AltAz, EarthLocation, Galactic\n",
    "from astropy.time import Time\n",
    "import astropy.units as u\n",
    "import pandas as pd\n",
    "import datetime"
   ],
   "outputs": [],
   "execution_count": 193
  },
  {
   "metadata": {
    "ExecuteTime": {
     "end_time": "2024-11-21T19:24:16.358806Z",
     "start_time": "2024-11-21T19:24:16.349011Z"
    }
   },
   "cell_type": "code",
   "source": [
    "# Get star data\n",
    "df = pd.read_json('..\\\\data\\\\test_stars.json')"
   ],
   "id": "4d708c0a9e1f257a",
   "outputs": [
    {
     "name": "stdout",
     "output_type": "stream",
     "text": [
      "     name           ra           dec\n",
      "0  Altair  19h51m58.9s  +08d56m06.9s\n",
      "1   Deneb  20h41m25.9s  +45d16m49.0s\n"
     ]
    }
   ],
   "execution_count": 194
  },
  {
   "metadata": {
    "ExecuteTime": {
     "end_time": "2024-11-21T19:24:16.370835Z",
     "start_time": "2024-11-21T19:24:16.367341Z"
    }
   },
   "cell_type": "code",
   "source": [
    "# User Parameters\n",
    "\n",
    "# Location (Pickerington, OH)\n",
    "lat = 39.898868672148254\n",
    "lon = -82.74506887807006\n",
    "elevation = 256.032\n",
    "\n",
    "# Target Object\n",
    "target_object = 'Deneb'\n",
    "\n",
    "observer_location = EarthLocation(lat=lat, lon=lon, height=elevation)"
   ],
   "id": "bbea7a97db335bdc",
   "outputs": [],
   "execution_count": 195
  },
  {
   "metadata": {
    "ExecuteTime": {
     "end_time": "2024-11-21T19:24:16.392339Z",
     "start_time": "2024-11-21T19:24:16.390271Z"
    }
   },
   "cell_type": "code",
   "source": [
    "# Create an observer using Astroplan\n",
    "# observer = Observer(longitude=lon*u.deg, latitude=lat*u.deg, elevation=elevation*u.m, timezone=\"US/Eastern\")"
   ],
   "id": "7fbb15744e1f1485",
   "outputs": [],
   "execution_count": 196
  },
  {
   "metadata": {
    "ExecuteTime": {
     "end_time": "2024-11-21T19:24:16.410809Z",
     "start_time": "2024-11-21T19:24:16.407851Z"
    }
   },
   "cell_type": "code",
   "source": [
    "# Define the time of observation\n",
    "obs_time = datetime.datetime.now(datetime.UTC)\n",
    "# obs_time = '2024-11-21T19:17:19'\n",
    "observation_time = Time(obs_time)\n",
    "print(observation_time.to_string())"
   ],
   "id": "45b106be1a113309",
   "outputs": [
    {
     "name": "stdout",
     "output_type": "stream",
     "text": [
      "2024-11-21 19:24:16.408847\n"
     ]
    }
   ],
   "execution_count": 197
  },
  {
   "metadata": {
    "ExecuteTime": {
     "end_time": "2024-11-21T19:24:16.459208Z",
     "start_time": "2024-11-21T19:24:16.452625Z"
    }
   },
   "cell_type": "code",
   "source": [
    "# Get RA and DEC from star dataframe\n",
    "\n",
    "def hours_to_dec(ra_string):\n",
    "    h = float(ra_string[:2])\n",
    "    m = float(ra_string[3:5])\n",
    "    s = float(ra_string[6:10])\n",
    "    return h + m/60 + s/3600\n",
    "\n",
    "def deg_to_dec(dec_string):\n",
    "    d = float(dec_string[1:3])\n",
    "    m = float(dec_string[4:6])\n",
    "    s = float(dec_string[7:11])\n",
    "    deci = d + m/60 + s/3600\n",
    "    if dec_string[0] == '-':\n",
    "        deci = -deci\n",
    "    return deci\n",
    "\n",
    "ra_data = df.loc[df['name'] == target_object, 'ra'].iloc[0]\n",
    "dec_data = df.loc[df['name'] == target_object, 'dec'].iloc[0]\n",
    "\n",
    "ra_hours = hours_to_dec(ra_data)\n",
    "dec_hours = deg_to_dec(dec_data)\n",
    "\n",
    "# Specify the RA/Dec coordinates to convert\n",
    "ra = ra_hours * u.hourangle\n",
    "dec = dec_hours * u.deg\n"
   ],
   "id": "324176535b0f4561",
   "outputs": [
    {
     "name": "stdout",
     "output_type": "stream",
     "text": [
      "20.690527777777778 45.280277777777776\n"
     ]
    }
   ],
   "execution_count": 198
  },
  {
   "metadata": {
    "ExecuteTime": {
     "end_time": "2024-11-21T19:24:16.540058Z",
     "start_time": "2024-11-21T19:24:16.536205Z"
    }
   },
   "cell_type": "code",
   "source": [
    "# Create a SkyCoord object for the RA/Dec coordinates\n",
    "target = SkyCoord(ra=ra, dec=dec, frame='icrs')"
   ],
   "id": "4304c64d92c09b24",
   "outputs": [
    {
     "name": "stdout",
     "output_type": "stream",
     "text": [
      "310.358 45.2803\n"
     ]
    }
   ],
   "execution_count": 199
  },
  {
   "metadata": {
    "ExecuteTime": {
     "end_time": "2024-11-21T19:24:16.634627Z",
     "start_time": "2024-11-21T19:24:16.626598Z"
    }
   },
   "cell_type": "code",
   "source": [
    "# Convert RA/Dec to Alt/Az\n",
    "alt_az = target.transform_to(AltAz(obstime=observation_time, location=observer_location))"
   ],
   "id": "9da27cc465843a23",
   "outputs": [],
   "execution_count": 200
  },
  {
   "metadata": {
    "ExecuteTime": {
     "end_time": "2024-11-21T19:24:17.748192Z",
     "start_time": "2024-11-21T19:24:17.744910Z"
    }
   },
   "cell_type": "code",
   "source": [
    "# Print the result\n",
    "print(f\"Azimuth: {alt_az.az}\")\n",
    "print(f\"Altitude: {alt_az.alt}\")"
   ],
   "id": "b90b8308aa4dc118",
   "outputs": [
    {
     "name": "stdout",
     "output_type": "stream",
     "text": [
      "Azimuth: 65.92965658575136 deg\n",
      "Altitude: 59.71266400908364 deg\n"
     ]
    }
   ],
   "execution_count": 201
  }
 ],
 "metadata": {
  "kernelspec": {
   "display_name": "Python 3",
   "language": "python",
   "name": "python3"
  },
  "language_info": {
   "codemirror_mode": {
    "name": "ipython",
    "version": 2
   },
   "file_extension": ".py",
   "mimetype": "text/x-python",
   "name": "python",
   "nbconvert_exporter": "python",
   "pygments_lexer": "ipython2",
   "version": "2.7.6"
  }
 },
 "nbformat": 4,
 "nbformat_minor": 5
}
